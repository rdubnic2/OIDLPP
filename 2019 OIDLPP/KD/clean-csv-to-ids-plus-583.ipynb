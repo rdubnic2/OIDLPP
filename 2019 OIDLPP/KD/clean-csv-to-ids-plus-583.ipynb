{
 "cells": [
  {
   "cell_type": "code",
   "execution_count": 2,
   "metadata": {},
   "outputs": [],
   "source": [
    "import pandas as pd\n"
   ]
  },
  {
   "cell_type": "code",
   "execution_count": 42,
   "metadata": {},
   "outputs": [
    {
     "name": "stdout",
     "output_type": "stream",
     "text": [
      "(40000, 178)\n"
     ]
    }
   ],
   "source": [
    "rest_df = pd.read_pickle('dataframes.pk1')\n",
    "\n",
    "print(rest_df.shape)"
   ]
  },
  {
   "cell_type": "code",
   "execution_count": 5,
   "metadata": {},
   "outputs": [
    {
     "name": "stdout",
     "output_type": "stream",
     "text": [
      "Found 149 583 fields with info.\n"
     ]
    }
   ],
   "source": [
    "# TESTING HOW MANY ROWS HAVE DATA IN 583 COLUMN:\n",
    "\n",
    "list583 = []\n",
    "trash = []\n",
    "\n",
    "for idx, d in rest_df['583'].iteritems():\n",
    "    str_idx = str(idx)\n",
    "    # print(str(d))\n",
    "    if d == 'MISSING':\n",
    "        trash.append(d)\n",
    "    else:\n",
    "        list583.append(d)\n",
    "\n",
    "print('Found '+ str(len(list583)) + ' 583 fields with info.')"
   ]
  },
  {
   "cell_type": "code",
   "execution_count": 22,
   "metadata": {},
   "outputs": [
    {
     "name": "stdout",
     "output_type": "stream",
     "text": [
      "1385 rows had 583 data, but no HTID\n",
      "Added 150 items to dict583\n"
     ]
    }
   ],
   "source": [
    "# LOTS OF CONVOLUTED LOOPS TO FIND THE 583 DATA AND ADD IT TO A DICTIONARY WITH A FOUND AND PARSED HTID AS KEY:\n",
    "\n",
    "list583 = []\n",
    "\n",
    "dict583 = {}\n",
    "no_htid = 0\n",
    "\n",
    "# If you want to test this without running the whole thing, can use this for loop:\n",
    "#        for idx, r in dataframes.head(10000).iterrows():\n",
    "\n",
    "for idx, r in rest_df.iterrows():\n",
    "    # 583 field is callable via r['583']\n",
    "    htid = eval(r['974'])\n",
    "    # print(type(htid))\n",
    "    # print(htid)\n",
    "    if r['583'] == 'MISSING':\n",
    "#         for i in htid:\n",
    "#             htid_only = i.get('u')\n",
    "#             # print(i)\n",
    "#             print(htid_only)\n",
    "        continue\n",
    "    else:\n",
    "        d = eval(r['583'])\n",
    "        # print(f\"This is d: {d}\")\n",
    "        # print(f\"d is type {type(d)}\")\n",
    "        for i in htid:\n",
    "            # print(f\"This is i: {i}\")\n",
    "            # print(type(i))\n",
    "            htid_only = i.get('u')\n",
    "            # print(f\"This is HTID: {htid_only}\")\n",
    "            if htid_only != None:\n",
    "                if htid_only in dict583:\n",
    "                    dict583[htid_only].append(d)\n",
    "                else:\n",
    "                    dict583[htid_only]= d\n",
    "            else:\n",
    "#                 print(htid_only)\n",
    "#                 print(d)\n",
    "                if 'Unknown' in dict583:\n",
    "                    dict583['Unknown'].append(d)\n",
    "                else:\n",
    "                    dict583['Unknown'] = d\n",
    "                no_htid += 1\n",
    "                \n",
    "print(f\"{no_htid} rows had 583 data, but no HTID\")\n",
    "print(f\"Added {len(dict583)} items to dict583\")\n"
   ]
  },
  {
   "cell_type": "code",
   "execution_count": 21,
   "metadata": {
    "scrolled": true
   },
   "outputs": [
    {
     "name": "stdout",
     "output_type": "stream",
     "text": [
      "150\n"
     ]
    }
   ],
   "source": [
    "print(len(dict583))"
   ]
  },
  {
   "cell_type": "code",
   "execution_count": 33,
   "metadata": {},
   "outputs": [],
   "source": [
    "# WRITING THE GENERATED DICTIONARY WITH {HTID:[583 DATA]} TO A NEW FILE, ONE HTID PER LINE\n",
    "\n",
    "with open(\"restricted-583.txt\", \"w\") as f: # CHANGE FILE NAME EACH TIME THIS RUNS\n",
    "    for i in dict583:\n",
    "        # print(f\"This is k: {i}\")\n",
    "        # print(dict583[i])\n",
    "        f.write(str(i) + '\\t' + str(dict583[i]) + '\\n')"
   ]
  },
  {
   "cell_type": "code",
   "execution_count": 38,
   "metadata": {},
   "outputs": [],
   "source": [
    "pd.read_csv?"
   ]
  },
  {
   "cell_type": "code",
   "execution_count": 40,
   "metadata": {},
   "outputs": [
    {
     "data": {
      "text/plain": [
       "(150, 2)"
      ]
     },
     "execution_count": 40,
     "metadata": {},
     "output_type": "execute_result"
    }
   ],
   "source": [
    "cols = ['HTID','583 field']\n",
    "\n",
    "df583 = pd.read_csv('restricted-583.txt', names=cols, sep='\\t', lineterminator='\\n')\n",
    "\n",
    "df583.head()\n",
    "df583.shape"
   ]
  },
  {
   "cell_type": "code",
   "execution_count": null,
   "metadata": {},
   "outputs": [],
   "source": []
  },
  {
   "cell_type": "code",
   "execution_count": null,
   "metadata": {},
   "outputs": [],
   "source": []
  },
  {
   "cell_type": "code",
   "execution_count": null,
   "metadata": {},
   "outputs": [],
   "source": []
  },
  {
   "cell_type": "code",
   "execution_count": null,
   "metadata": {},
   "outputs": [],
   "source": []
  }
 ],
 "metadata": {
  "kernelspec": {
   "display_name": "Python 3",
   "language": "python",
   "name": "python3"
  },
  "language_info": {
   "codemirror_mode": {
    "name": "ipython",
    "version": 3
   },
   "file_extension": ".py",
   "mimetype": "text/x-python",
   "name": "python",
   "nbconvert_exporter": "python",
   "pygments_lexer": "ipython3",
   "version": "3.7.3"
  }
 },
 "nbformat": 4,
 "nbformat_minor": 2
}
