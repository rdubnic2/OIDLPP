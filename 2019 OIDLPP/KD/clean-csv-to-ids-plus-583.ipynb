{
 "cells": [
  {
   "cell_type": "code",
   "execution_count": 1,
   "metadata": {},
   "outputs": [],
   "source": [
    "import pandas as pd\n"
   ]
  },
  {
   "cell_type": "code",
   "execution_count": 2,
   "metadata": {},
   "outputs": [
    {
     "name": "stdout",
     "output_type": "stream",
     "text": [
      "(40000, 178)\n"
     ]
    }
   ],
   "source": [
    "rest_df = pd.read_pickle('dataframes.pk1')\n",
    "\n",
    "print(rest_df.shape)"
   ]
  },
  {
   "cell_type": "code",
   "execution_count": 4,
   "metadata": {},
   "outputs": [
    {
     "name": "stdout",
     "output_type": "stream",
     "text": [
      "Found 149 MARC 583 fields with info.\n"
     ]
    }
   ],
   "source": [
    "# TESTING HOW MANY ROWS HAVE DATA IN 583 COLUMN:\n",
    "\n",
    "list583 = []\n",
    "trash = []\n",
    "\n",
    "for idx, d in rest_df['583'].iteritems():\n",
    "    str_idx = str(idx)\n",
    "    # print(str(d))\n",
    "    if d == 'MISSING':\n",
    "        trash.append(d)\n",
    "    else:\n",
    "        list583.append(d)\n",
    "\n",
    "print('Found '+ str(len(list583)) + ' MARC 583 fields with info.')"
   ]
  },
  {
   "cell_type": "code",
   "execution_count": 5,
   "metadata": {},
   "outputs": [
    {
     "name": "stdout",
     "output_type": "stream",
     "text": [
      "1385 rows had 583 data, but no HTID\n",
      "Added 150 items to dict583\n"
     ]
    }
   ],
   "source": [
    "# LOTS OF CONVOLUTED LOOPS TO FIND THE 583 DATA AND ADD IT TO A DICTIONARY WITH A FOUND AND PARSED HTID AS KEY:\n",
    "\n",
    "list583 = []\n",
    "\n",
    "dict583 = {}\n",
    "no_htid = 0\n",
    "\n",
    "# If you want to test this without running the whole thing, can use this for loop:\n",
    "#        for idx, r in dataframes.head(10000).iterrows():\n",
    "\n",
    "for idx, r in rest_df.iterrows():\n",
    "    # 583 field is callable via r['583']\n",
    "    htid = eval(r['974'])\n",
    "    # print(type(htid))\n",
    "    # print(htid)\n",
    "    if r['583'] == 'MISSING':\n",
    "#         for i in htid:\n",
    "#             htid_only = i.get('u')\n",
    "#             # print(i)\n",
    "#             print(htid_only)\n",
    "        continue\n",
    "    else:\n",
    "        d = eval(r['583'])\n",
    "        # print(f\"This is d: {d}\")\n",
    "        # print(f\"d is type {type(d)}\")\n",
    "        for i in htid:\n",
    "            # print(f\"This is i: {i}\")\n",
    "            # print(type(i))\n",
    "            htid_only = i.get('u')\n",
    "            # print(f\"This is HTID: {htid_only}\")\n",
    "            if htid_only != None:\n",
    "                if htid_only in dict583:\n",
    "                    dict583[htid_only].append(d)\n",
    "                else:\n",
    "                    dict583[htid_only]= d\n",
    "            else:\n",
    "#                 print(htid_only)\n",
    "#                 print(d)\n",
    "                if 'Unknown' in dict583:\n",
    "                    dict583['Unknown'].append(d)\n",
    "                else:\n",
    "                    dict583['Unknown'] = d\n",
    "                no_htid += 1\n",
    "                \n",
    "print(f\"{no_htid} rows had 583 data, but no HTID\")\n",
    "print(f\"Added {len(dict583)} items to dict583\")\n"
   ]
  },
  {
   "cell_type": "code",
   "execution_count": 6,
   "metadata": {
    "scrolled": true
   },
   "outputs": [
    {
     "name": "stdout",
     "output_type": "stream",
     "text": [
      "150\n"
     ]
    }
   ],
   "source": [
    "print(len(dict583))"
   ]
  },
  {
   "cell_type": "code",
   "execution_count": 7,
   "metadata": {},
   "outputs": [],
   "source": [
    "# WRITING THE GENERATED DICTIONARY WITH {HTID:[583 DATA]} TO A NEW FILE, ONE HTID PER LINE\n",
    "\n",
    "with open(\"restricted-583.txt\", \"w\") as f: # CHANGE FILE NAME EACH TIME THIS RUNS\n",
    "    for i in dict583:\n",
    "        # print(f\"This is k: {i}\")\n",
    "        # print(dict583[i])\n",
    "        f.write(str(i) + '\\t' + str(dict583[i]) + '\\n')"
   ]
  },
  {
   "cell_type": "code",
   "execution_count": 38,
   "metadata": {},
   "outputs": [],
   "source": [
    "pd.read_csv?"
   ]
  },
  {
   "cell_type": "code",
   "execution_count": 11,
   "metadata": {},
   "outputs": [
    {
     "name": "stdout",
     "output_type": "stream",
     "text": [
      "(150, 2)\n"
     ]
    },
    {
     "data": {
      "text/html": [
       "<div>\n",
       "<style scoped>\n",
       "    .dataframe tbody tr th:only-of-type {\n",
       "        vertical-align: middle;\n",
       "    }\n",
       "\n",
       "    .dataframe tbody tr th {\n",
       "        vertical-align: top;\n",
       "    }\n",
       "\n",
       "    .dataframe thead th {\n",
       "        text-align: right;\n",
       "    }\n",
       "</style>\n",
       "<table border=\"1\" class=\"dataframe\">\n",
       "  <thead>\n",
       "    <tr style=\"text-align: right;\">\n",
       "      <th></th>\n",
       "      <th>HTID</th>\n",
       "      <th>583 field</th>\n",
       "    </tr>\n",
       "  </thead>\n",
       "  <tbody>\n",
       "    <tr>\n",
       "      <th>0</th>\n",
       "      <td>Unknown</td>\n",
       "      <td>[{'3': 'Rubenstein Library copy'}, {'a': 'form...</td>\n",
       "    </tr>\n",
       "    <tr>\n",
       "      <th>1</th>\n",
       "      <td>dul1.ark:/13960/t4sj8nb6t</td>\n",
       "      <td>[{'3': 'Rubenstein Library copy'}, {'a': 'form...</td>\n",
       "    </tr>\n",
       "    <tr>\n",
       "      <th>2</th>\n",
       "      <td>gri.ark:/13960/t3vt1kn2j</td>\n",
       "      <td>[{'a': 'Sloan candidate'}, {'k': 'lp'}, {'l': ...</td>\n",
       "    </tr>\n",
       "    <tr>\n",
       "      <th>3</th>\n",
       "      <td>yale.39002005891255</td>\n",
       "      <td>[{'a': 'will reformat'}, {'c': '09-12-90'}]</td>\n",
       "    </tr>\n",
       "    <tr>\n",
       "      <th>4</th>\n",
       "      <td>dul1.ark:/13960/t1ng5q78c</td>\n",
       "      <td>[{'3': 'Rubenstein Library copy'}, {'a': 'form...</td>\n",
       "    </tr>\n",
       "    <tr>\n",
       "      <th>5</th>\n",
       "      <td>yale.39002004114386</td>\n",
       "      <td>[{'a': 'will reformat'}, {'c': '07-16-90'}]</td>\n",
       "    </tr>\n",
       "    <tr>\n",
       "      <th>6</th>\n",
       "      <td>yale.39002006063011</td>\n",
       "      <td>[{'a': 'will reformat'}, {'c': '07-16-90'}]</td>\n",
       "    </tr>\n",
       "    <tr>\n",
       "      <th>7</th>\n",
       "      <td>yale.39002013254553</td>\n",
       "      <td>[{'a': 'will reformat'}, {'c': '07-16-90'}]</td>\n",
       "    </tr>\n",
       "    <tr>\n",
       "      <th>8</th>\n",
       "      <td>yale.39002013254488</td>\n",
       "      <td>[{'a': 'will reformat'}, {'c': '07-16-90'}]</td>\n",
       "    </tr>\n",
       "    <tr>\n",
       "      <th>9</th>\n",
       "      <td>yale.39002004114394</td>\n",
       "      <td>[{'a': 'will reformat'}, {'c': '07-16-90'}]</td>\n",
       "    </tr>\n",
       "  </tbody>\n",
       "</table>\n",
       "</div>"
      ],
      "text/plain": [
       "                        HTID  \\\n",
       "0                    Unknown   \n",
       "1  dul1.ark:/13960/t4sj8nb6t   \n",
       "2   gri.ark:/13960/t3vt1kn2j   \n",
       "3        yale.39002005891255   \n",
       "4  dul1.ark:/13960/t1ng5q78c   \n",
       "5        yale.39002004114386   \n",
       "6        yale.39002006063011   \n",
       "7        yale.39002013254553   \n",
       "8        yale.39002013254488   \n",
       "9        yale.39002004114394   \n",
       "\n",
       "                                           583 field  \n",
       "0  [{'3': 'Rubenstein Library copy'}, {'a': 'form...  \n",
       "1  [{'3': 'Rubenstein Library copy'}, {'a': 'form...  \n",
       "2  [{'a': 'Sloan candidate'}, {'k': 'lp'}, {'l': ...  \n",
       "3        [{'a': 'will reformat'}, {'c': '09-12-90'}]  \n",
       "4  [{'3': 'Rubenstein Library copy'}, {'a': 'form...  \n",
       "5        [{'a': 'will reformat'}, {'c': '07-16-90'}]  \n",
       "6        [{'a': 'will reformat'}, {'c': '07-16-90'}]  \n",
       "7        [{'a': 'will reformat'}, {'c': '07-16-90'}]  \n",
       "8        [{'a': 'will reformat'}, {'c': '07-16-90'}]  \n",
       "9        [{'a': 'will reformat'}, {'c': '07-16-90'}]  "
      ]
     },
     "execution_count": 11,
     "metadata": {},
     "output_type": "execute_result"
    }
   ],
   "source": [
    "cols = ['HTID','583 field']\n",
    "\n",
    "df583 = pd.read_csv('restricted-583.txt', names=cols, sep='\\t', lineterminator='\\n')\n",
    "\n",
    "print(df583.shape)\n",
    "df583.head(10)"
   ]
  },
  {
   "cell_type": "code",
   "execution_count": null,
   "metadata": {},
   "outputs": [],
   "source": []
  },
  {
   "cell_type": "code",
   "execution_count": null,
   "metadata": {},
   "outputs": [],
   "source": []
  },
  {
   "cell_type": "code",
   "execution_count": null,
   "metadata": {},
   "outputs": [],
   "source": []
  },
  {
   "cell_type": "code",
   "execution_count": null,
   "metadata": {},
   "outputs": [],
   "source": []
  }
 ],
 "metadata": {
  "kernelspec": {
   "display_name": "Python 3",
   "language": "python",
   "name": "python3"
  },
  "language_info": {
   "codemirror_mode": {
    "name": "ipython",
    "version": 3
   },
   "file_extension": ".py",
   "mimetype": "text/x-python",
   "name": "python",
   "nbconvert_exporter": "python",
   "pygments_lexer": "ipython3",
   "version": "3.7.3"
  }
 },
 "nbformat": 4,
 "nbformat_minor": 2
}
