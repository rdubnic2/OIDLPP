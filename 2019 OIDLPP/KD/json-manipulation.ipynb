{
 "cells": [
  {
   "cell_type": "code",
   "execution_count": 1,
   "metadata": {},
   "outputs": [],
   "source": [
    "import json\n",
    "import pandas as pd\n",
    "from pandas.io.json import json_normalize\n",
    "import csv"
   ]
  },
  {
   "cell_type": "code",
   "execution_count": 2,
   "metadata": {},
   "outputs": [],
   "source": []
  },
  {
   "cell_type": "code",
   "execution_count": 22,
   "metadata": {
    "scrolled": true
   },
   "outputs": [
    {
     "data": {
      "text/html": [
       "<div>\n",
       "<style scoped>\n",
       "    .dataframe tbody tr th:only-of-type {\n",
       "        vertical-align: middle;\n",
       "    }\n",
       "\n",
       "    .dataframe tbody tr th {\n",
       "        vertical-align: top;\n",
       "    }\n",
       "\n",
       "    .dataframe thead th {\n",
       "        text-align: right;\n",
       "    }\n",
       "</style>\n",
       "<table border=\"1\" class=\"dataframe\">\n",
       "  <thead>\n",
       "    <tr style=\"text-align: right;\">\n",
       "      <th></th>\n",
       "      <th>001</th>\n",
       "      <th>002</th>\n",
       "      <th>003</th>\n",
       "      <th>004</th>\n",
       "      <th>005</th>\n",
       "      <th>006</th>\n",
       "      <th>007</th>\n",
       "      <th>008</th>\n",
       "      <th>009</th>\n",
       "      <th>010</th>\n",
       "      <th>...</th>\n",
       "      <th>856</th>\n",
       "      <th>857</th>\n",
       "      <th>859</th>\n",
       "      <th>866</th>\n",
       "      <th>880</th>\n",
       "      <th>890</th>\n",
       "      <th>891</th>\n",
       "      <th>899</th>\n",
       "      <th>970</th>\n",
       "      <th>974</th>\n",
       "    </tr>\n",
       "  </thead>\n",
       "  <tbody>\n",
       "    <tr>\n",
       "      <th>0</th>\n",
       "      <td>862</td>\n",
       "      <td>MISSING</td>\n",
       "      <td>MiAaHDL</td>\n",
       "      <td>MISSING</td>\n",
       "      <td>2.013051e+13</td>\n",
       "      <td>m        d</td>\n",
       "      <td>cr bn ---auaua</td>\n",
       "      <td>700518s1967    dcuac        f100 0 eng</td>\n",
       "      <td>MISSING</td>\n",
       "      <td>[{'a': '   67060040'}]</td>\n",
       "      <td>...</td>\n",
       "      <td>MISSING</td>\n",
       "      <td>NaN</td>\n",
       "      <td>NaN</td>\n",
       "      <td>NaN</td>\n",
       "      <td>MISSING</td>\n",
       "      <td>MISSING</td>\n",
       "      <td>MISSING</td>\n",
       "      <td>NaN</td>\n",
       "      <td>[{'a': 'BK'}]</td>\n",
       "      <td>[{'8': 'ia.technologyworldt00symp'}, {'b': 'PS...</td>\n",
       "    </tr>\n",
       "    <tr>\n",
       "      <th>1</th>\n",
       "      <td>2176</td>\n",
       "      <td>MISSING</td>\n",
       "      <td>MiAaHDL</td>\n",
       "      <td>MISSING</td>\n",
       "      <td>2.018052e+13</td>\n",
       "      <td>m        d</td>\n",
       "      <td>cr bn ---auaua</td>\n",
       "      <td>710526s1970    dcuabc   bs  f000 0 eng</td>\n",
       "      <td>MISSING</td>\n",
       "      <td>[{'a': '   77609991'}]</td>\n",
       "      <td>...</td>\n",
       "      <td>MISSING</td>\n",
       "      <td>NaN</td>\n",
       "      <td>NaN</td>\n",
       "      <td>NaN</td>\n",
       "      <td>MISSING</td>\n",
       "      <td>MISSING</td>\n",
       "      <td>MISSING</td>\n",
       "      <td>NaN</td>\n",
       "      <td>[{'a': 'BK'}]</td>\n",
       "      <td>[{'8': 'ia.republicofkoreab00krac'}, {'b': 'PS...</td>\n",
       "    </tr>\n",
       "    <tr>\n",
       "      <th>2</th>\n",
       "      <td>2530</td>\n",
       "      <td>MISSING</td>\n",
       "      <td>MiAaHDL</td>\n",
       "      <td>MISSING</td>\n",
       "      <td>2.011063e+13</td>\n",
       "      <td>m        d</td>\n",
       "      <td>cr bn ---auaua</td>\n",
       "      <td>711026s1913    enkbf         000 0 eng c</td>\n",
       "      <td>MISSING</td>\n",
       "      <td>[{'a': 'w  15000100 '}]</td>\n",
       "      <td>...</td>\n",
       "      <td>MISSING</td>\n",
       "      <td>NaN</td>\n",
       "      <td>NaN</td>\n",
       "      <td>NaN</td>\n",
       "      <td>MISSING</td>\n",
       "      <td>MISSING</td>\n",
       "      <td>MISSING</td>\n",
       "      <td>NaN</td>\n",
       "      <td>[{'a': 'BK'}]</td>\n",
       "      <td>[{'8': 'ia.gorgeouseastindi00eliaiala'}, {'b':...</td>\n",
       "    </tr>\n",
       "    <tr>\n",
       "      <th>3</th>\n",
       "      <td>2718</td>\n",
       "      <td>MISSING</td>\n",
       "      <td>MiAaHDL</td>\n",
       "      <td>MISSING</td>\n",
       "      <td>2.015103e+13</td>\n",
       "      <td>m        d</td>\n",
       "      <td>cr bn ---auaua</td>\n",
       "      <td>741007s1871    enkafg        000 0 eng d</td>\n",
       "      <td>MISSING</td>\n",
       "      <td>[{'a': '   44011843 '}]</td>\n",
       "      <td>...</td>\n",
       "      <td>MISSING</td>\n",
       "      <td>NaN</td>\n",
       "      <td>NaN</td>\n",
       "      <td>NaN</td>\n",
       "      <td>MISSING</td>\n",
       "      <td>MISSING</td>\n",
       "      <td>MISSING</td>\n",
       "      <td>NaN</td>\n",
       "      <td>[{'a': 'BK'}]</td>\n",
       "      <td>[{'8': 'ia.lovingballadoflo00dick'}, {'b': 'CM...</td>\n",
       "    </tr>\n",
       "    <tr>\n",
       "      <th>4</th>\n",
       "      <td>4067</td>\n",
       "      <td>MISSING</td>\n",
       "      <td>MiAaHDL</td>\n",
       "      <td>MISSING</td>\n",
       "      <td>2.011113e+13</td>\n",
       "      <td>m        d</td>\n",
       "      <td>cr ||||||||a|a</td>\n",
       "      <td>720412s1891    nyuac         000 0 eng</td>\n",
       "      <td>MISSING</td>\n",
       "      <td>[{'a': '   02001319 '}]</td>\n",
       "      <td>...</td>\n",
       "      <td>[{'d': 'lhbtn'}, {'f': '01319'}, {'q': 's'}, {...</td>\n",
       "      <td>NaN</td>\n",
       "      <td>NaN</td>\n",
       "      <td>NaN</td>\n",
       "      <td>MISSING</td>\n",
       "      <td>MISSING</td>\n",
       "      <td>MISSING</td>\n",
       "      <td>NaN</td>\n",
       "      <td>[{'a': 'BK'}]</td>\n",
       "      <td>[{'8': 'ia.frenchmaninameri00orel'}, {'b': 'LO...</td>\n",
       "    </tr>\n",
       "  </tbody>\n",
       "</table>\n",
       "<p>5 rows × 178 columns</p>\n",
       "</div>"
      ],
      "text/plain": [
       "    001      002      003      004           005                 006  \\\n",
       "0   862  MISSING  MiAaHDL  MISSING  2.013051e+13  m        d           \n",
       "1  2176  MISSING  MiAaHDL  MISSING  2.018052e+13  m        d           \n",
       "2  2530  MISSING  MiAaHDL  MISSING  2.011063e+13  m        d           \n",
       "3  2718  MISSING  MiAaHDL  MISSING  2.015103e+13  m        d           \n",
       "4  4067  MISSING  MiAaHDL  MISSING  2.011113e+13  m        d           \n",
       "\n",
       "              007                                       008      009  \\\n",
       "0  cr bn ---auaua  700518s1967    dcuac        f100 0 eng    MISSING   \n",
       "1  cr bn ---auaua  710526s1970    dcuabc   bs  f000 0 eng    MISSING   \n",
       "2  cr bn ---auaua  711026s1913    enkbf         000 0 eng c  MISSING   \n",
       "3  cr bn ---auaua  741007s1871    enkafg        000 0 eng d  MISSING   \n",
       "4  cr ||||||||a|a  720412s1891    nyuac         000 0 eng    MISSING   \n",
       "\n",
       "                       010  ...  \\\n",
       "0   [{'a': '   67060040'}]  ...   \n",
       "1   [{'a': '   77609991'}]  ...   \n",
       "2  [{'a': 'w  15000100 '}]  ...   \n",
       "3  [{'a': '   44011843 '}]  ...   \n",
       "4  [{'a': '   02001319 '}]  ...   \n",
       "\n",
       "                                                 856  857  859  866      880  \\\n",
       "0                                            MISSING  NaN  NaN  NaN  MISSING   \n",
       "1                                            MISSING  NaN  NaN  NaN  MISSING   \n",
       "2                                            MISSING  NaN  NaN  NaN  MISSING   \n",
       "3                                            MISSING  NaN  NaN  NaN  MISSING   \n",
       "4  [{'d': 'lhbtn'}, {'f': '01319'}, {'q': 's'}, {...  NaN  NaN  NaN  MISSING   \n",
       "\n",
       "       890      891  899            970  \\\n",
       "0  MISSING  MISSING  NaN  [{'a': 'BK'}]   \n",
       "1  MISSING  MISSING  NaN  [{'a': 'BK'}]   \n",
       "2  MISSING  MISSING  NaN  [{'a': 'BK'}]   \n",
       "3  MISSING  MISSING  NaN  [{'a': 'BK'}]   \n",
       "4  MISSING  MISSING  NaN  [{'a': 'BK'}]   \n",
       "\n",
       "                                                 974  \n",
       "0  [{'8': 'ia.technologyworldt00symp'}, {'b': 'PS...  \n",
       "1  [{'8': 'ia.republicofkoreab00krac'}, {'b': 'PS...  \n",
       "2  [{'8': 'ia.gorgeouseastindi00eliaiala'}, {'b':...  \n",
       "3  [{'8': 'ia.lovingballadoflo00dick'}, {'b': 'CM...  \n",
       "4  [{'8': 'ia.frenchmaninameri00orel'}, {'b': 'LO...  \n",
       "\n",
       "[5 rows x 178 columns]"
      ]
     },
     "execution_count": 22,
     "metadata": {},
     "output_type": "execute_result"
    }
   ],
   "source": [
    "# j_data = pd.read_json('/Users/rdubnic2/Desktop/oidlpp-project-docs/KD code and data/restricted_meta/restricted_segment_ac.jsonl', lines=True, convert_axes=True)\n",
    "\n",
    "dfStop = pd.read_pickle('dfStop.pk1')\n",
    "\n",
    "dfClean = pd.read_pickle('dfClean.pk1')\n",
    " \n",
    "dataframes = pd.read_pickle('dataframes.pk1')\n",
    "# data = pd.read_json(j_data, dtype=True, lines=True)\n",
    "\n",
    "# data2 = pd.read_json(j_data, dtype=True, lines=True, orient='index')\n",
    "\n",
    "# data3 = pd.read_json(j_data, dtype=True, lines=True)\n",
    "\n",
    "# df_list = [data, data2, data3]\n",
    "\n",
    "# j_data.head()\n",
    "\n",
    "dataframes.head()\n",
    "# dfStop.head()\n",
    "# dfClean.head()\n",
    "\n",
    "# data.shape"
   ]
  },
  {
   "cell_type": "code",
   "execution_count": 89,
   "metadata": {},
   "outputs": [
    {
     "name": "stdout",
     "output_type": "stream",
     "text": [
      "Found 149 583 fields with info.\n"
     ]
    }
   ],
   "source": [
    "list583 = []\n",
    "trash = []\n",
    "\n",
    "for i in dataframes['583'].iteritems():\n",
    "    m583 = i\n",
    "    # print(type(m583))\n",
    "    str_m583 = str(m583)\n",
    "    # print(str_m583)\n",
    "    if m583[1] == 'MISSING':\n",
    "        trash.append(m583)\n",
    "    else:\n",
    "        list583.append(m583)\n",
    "\n",
    "print('Found '+ str(len(list583)) + ' 583 fields with info.')"
   ]
  },
  {
   "cell_type": "code",
   "execution_count": 90,
   "metadata": {},
   "outputs": [
    {
     "data": {
      "text/plain": [
       "MISSING                                                                                                                                                                                   39851\n",
       "[{'a': 'Sloan candidate'}, {'k': 'lp'}, {'l': 'Tier 3'}]                                                                                                                                     40\n",
       "[{'a': 'will reformat'}, {'c': '07-16-90'}]                                                                                                                                                  31\n",
       "[{'a': 'Sloan candidate'}, {'k': 'lp'}, {'l': 'Tier 1'}]                                                                                                                                     14\n",
       "[{'a': 'digitized'}, {'c': '20150310'}, {'2': 'pda'}, {'5': 'GEU-S'}, {'x': 'public domain'}]                                                                                                 5\n",
       "[{'a': 'will reformat'}, {'c': '10-17-90'}]                                                                                                                                                   5\n",
       "[{'3': 'v.4, p.15'}, {'a': 'exhibited at JPGM'}, {'c': '11/14/95-01/28/96'}, {'k': 'ilp'}]                                                                                                    4\n",
       "[{'a': 'Repaired;'}, {'f': 'NEH Project (FWC);'}, {'c': '1991.'}]                                                                                                                             4\n",
       "[{'3': 'v. 1, 3;'}, {'a': 'rebound;'}, {'f': 'NEH;'}, {'f': 'Mellon;'}, {'h': 'Preservation Dept.;'}, {'i': 'signatures retained;'}, {'k': 'Conservation Div.;'}, {'l': 'reshelved.'}]        3\n",
       "[{'3': 'Rubenstein Library copy'}, {'a': 'former call number: Jantz #1470'}]                                                                                                                  3\n",
       "[{'3': 'Rubenstein Library copy'}, {'a': 'former call number: Jantz #1027'}]                                                                                                                  2\n",
       "[{'3': 'Rubenstein Library copy'}, {'a': 'former call number: E #5991'}]                                                                                                                      2\n",
       "[{'3': 'Rubenstein Library copy'}, {'a': 'former call number: E B796PO'}]                                                                                                                     2\n",
       "[{'a': 'repaired;'}, {'f': 'NEH;'}, {'f': 'Mellon;'}, {'h': 'Preservation Dept.;'}, {'i': 'cover;'}, {'k': 'Conservation Div.;'}, {'l': 'reshelve.'}]                                         2\n",
       "[{'3': 'Rubenstein Library copy'}, {'a': 'former call number: Jantz #661'}]                                                                                                                   2\n",
       "[{'a': 'will reformat'}, {'c': '05-18-90'}]                                                                                                                                                   2\n",
       "[{'a': 'will reformat'}, {'c': '10-15-90'}]                                                                                                                                                   2\n",
       "[{'a': 'digitized'}, {'c': '20150128'}, {'2': 'pda'}, {'5': 'GEU-S'}, {'x': 'public domain'}]                                                                                                 2\n",
       "[{'3': 'Rubenstein Library copy'}, {'a': 'former call number: Jantz #215'}]                                                                                                                   2\n",
       "[{'3': 'Rubenstein Library copy'}, {'a': 'former call number: Jantz #1523'}]                                                                                                                  1\n",
       "[{'3': 'Rubenstein Library copy'}, {'a': 'former call number: E B868CO'}]                                                                                                                     1\n",
       "[{'a': 'digitized'}, {'c': '20150317'}, {'2': 'pda'}, {'5': 'GEU-S'}, {'x': 'public domain'}]                                                                                                 1\n",
       "[{'3': 'Rubenstein Library copy'}, {'a': 'former call number: A-29 fF755SA'}]                                                                                                                 1\n",
       "[{'a': 'Will not digitize'}, {'c': '20121015'}, {'l': 'scanned by another institution'}, {'5': 'DNLM'}, {'2': 'pda'}]                                                                         1\n",
       "[{'3': 'Rubenstein Library copy'}, {'a': 'former call number: 15382'}]                                                                                                                        1\n",
       "[{'3': 'Rubenstein Library copy'}, {'a': 'former call number: E B983HA'}]                                                                                                                     1\n",
       "[{'a': 'digitized'}, {'c': '20150311'}, {'2': 'pda'}, {'5': 'GEU-S'}, {'x': 'public domain'}]                                                                                                 1\n",
       "[{'3': 'Rubenstein Library copy'}, {'a': 'former call number: A-28 fD866'}]                                                                                                                   1\n",
       "[{'3': 'Rubenstein Library copy'}, {'a': 'former call number: E f#88, v. 6'}]                                                                                                                 1\n",
       "[{'3': 'Rubenstein Library copy'}, {'a': 'former call number: E 12mo #7658'}]                                                                                                                 1\n",
       "[{'3': 'Rubenstein Library copy'}, {'a': 'former call number: Jantz #205'}]                                                                                                                   1\n",
       "[{'3': 'Rubenstein Library copy'}, {'a': 'former call number: 1962 Scott'}]                                                                                                                   1\n",
       "[{'3': 'Rubenstein Library copy'}, {'a': 'former call number: 027.756 Y68L'}]                                                                                                                 1\n",
       "[{'3': 'Rubenstein Library copy'}, {'a': 'former call number: Vivisection pamphlet'}]                                                                                                         1\n",
       "[{'a': 'digitized'}, {'c': '20150812'}, {'2': 'pda'}, {'5': 'GEU-S'}, {'x': 'public domain'}]                                                                                                 1\n",
       "[{'3': 'Rubenstein Library copy'}, {'a': 'former call number: Jantz #25'}]                                                                                                                    1\n",
       "[{'3': 'Rubenstein Library copy'}, {'a': 'former call number: LSC 3851'}]                                                                                                                     1\n",
       "[{'a': 'will reformat'}, {'c': '09-12-90'}]                                                                                                                                                   1\n",
       "[{'3': 'Rubenstein Library copy'}, {'a': 'former call number: Jantz #3339'}]                                                                                                                  1\n",
       "[{'a': 'committed to retain'}, {'c': '20170930'}, {'d': '20421231'}, {'f': 'HathiTrust'}, {'u': 'https://www.hathitrust.org/shared_print_program'}, {'5': 'OU.'}]                             1\n",
       "[{'a': 'will reformat'}, {'c': '08-18-93'}]                                                                                                                                                   1\n",
       "Name: 583, dtype: int64"
      ]
     },
     "execution_count": 90,
     "metadata": {},
     "output_type": "execute_result"
    }
   ],
   "source": [
    "dataframes['583'].value_counts()"
   ]
  },
  {
   "cell_type": "code",
   "execution_count": 54,
   "metadata": {},
   "outputs": [
    {
     "data": {
      "text/plain": [
       "\"[{'a': 'will reformat'}, {'c': '07-16-90'}]\""
      ]
     },
     "execution_count": 54,
     "metadata": {},
     "output_type": "execute_result"
    }
   ],
   "source": [
    "list583[4][1] # here [4] is the index number in our list of tuples, and [1] is the second item in the tuple pair, \n",
    "              # where item 0 is the index and item 1 is the information. You can then slice the second part of the\n",
    "              # tuple, like a string, to remove the list brackets."
   ]
  },
  {
   "cell_type": "code",
   "execution_count": 81,
   "metadata": {},
   "outputs": [
    {
     "name": "stdout",
     "output_type": "stream",
     "text": [
      "149\n"
     ]
    }
   ],
   "source": [
    "tup_583 = []\n",
    "\n",
    "for item in list583:\n",
    "    no_index_583 = item[1]\n",
    "    e_583 = eval(no_index_583)\n",
    "    tup_583.append(e_583)\n",
    "    \n",
    "print(len(tup_583))"
   ]
  },
  {
   "cell_type": "code",
   "execution_count": 87,
   "metadata": {
    "scrolled": true
   },
   "outputs": [
    {
     "name": "stdout",
     "output_type": "stream",
     "text": [
      "t = [{'3': 'Rubenstein Library copy'}, {'a': 'former call number: E f#88, v. 6'}]\n",
      "t[0] = {'3': 'Rubenstein Library copy'}\n",
      "t[1] = {'a': 'former call number: E f#88, v. 6'}\n",
      "dict_t_0 = {'3': 'Rubenstein Library copy'}\n",
      "dict_t_1 = {'a': 'former call number: E f#88, v. 6'}\n"
     ]
    },
    {
     "ename": "TypeError",
     "evalue": "unhashable type: 'dict'",
     "output_type": "error",
     "traceback": [
      "\u001b[0;31m---------------------------------------------------------------------------\u001b[0m",
      "\u001b[0;31mTypeError\u001b[0m                                 Traceback (most recent call last)",
      "\u001b[0;32m<ipython-input-87-8d7cff301d10>\u001b[0m in \u001b[0;36m<module>\u001b[0;34m\u001b[0m\n\u001b[1;32m     19\u001b[0m \u001b[0;34m\u001b[0m\u001b[0m\n\u001b[1;32m     20\u001b[0m \u001b[0;31m#     dict_583['word'] = [d['word'],'something']\u001b[0m\u001b[0;34m\u001b[0m\u001b[0;34m\u001b[0m\u001b[0;34m\u001b[0m\u001b[0m\n\u001b[0;32m---> 21\u001b[0;31m     \u001b[0mdict_583\u001b[0m\u001b[0;34m[\u001b[0m\u001b[0mt\u001b[0m\u001b[0;34m[\u001b[0m\u001b[0;36m0\u001b[0m\u001b[0;34m]\u001b[0m\u001b[0;34m]\u001b[0m \u001b[0;34m=\u001b[0m \u001b[0;34m[\u001b[0m\u001b[0mdict_583\u001b[0m\u001b[0;34m[\u001b[0m\u001b[0mt\u001b[0m\u001b[0;34m[\u001b[0m\u001b[0;36m0\u001b[0m\u001b[0;34m]\u001b[0m\u001b[0;34m]\u001b[0m\u001b[0;34m,\u001b[0m\u001b[0mt\u001b[0m\u001b[0;34m[\u001b[0m\u001b[0;36m1\u001b[0m\u001b[0;34m]\u001b[0m\u001b[0;34m]\u001b[0m\u001b[0;34m\u001b[0m\u001b[0;34m\u001b[0m\u001b[0m\n\u001b[0m\u001b[1;32m     22\u001b[0m     \u001b[0;31m# dict_583.update(dict_t_1)\u001b[0m\u001b[0;34m\u001b[0m\u001b[0;34m\u001b[0m\u001b[0;34m\u001b[0m\u001b[0m\n\u001b[1;32m     23\u001b[0m \u001b[0;34m\u001b[0m\u001b[0m\n",
      "\u001b[0;31mTypeError\u001b[0m: unhashable type: 'dict'"
     ]
    }
   ],
   "source": [
    "\n",
    "dict_583 = {}    \n",
    "\n",
    "for t in tup_583:\n",
    "    print('t = '+ str(t))\n",
    "    print('t[0] = ' + str(t[0]))\n",
    "    print('t[1] = ' + str(t[1]))\n",
    "    dict_t_0 = dict(t[0])\n",
    "    print('dict_t_0 = ' + str(dict_t_0))\n",
    "    dict_t_1 = dict(t[1])\n",
    "    print('dict_t_1 = ' + str(dict_t_1))\n",
    "    \n",
    "    # print(dict_t_1[0])\n",
    "    # dict_t_1[0]\n",
    "    # print(dict_t_1[0])\n",
    "    \n",
    "    # print('This is dict_t_1: ' + str(dict_t_1))\n",
    "    # dict_583.update(dict_t_0)\n",
    "    \n",
    "#     dict_583['word'] = [d['word'],'something']\n",
    "    # dict_583[t[0]] = [dict_583[t[0]],t[1]]\n",
    "    # dict_583.update(dict_t_1)\n",
    "\n",
    "# x = eval(list583[4][1][1:-1])\n",
    "# x_d = dict(x[0])\n",
    "# print(x_d)\n",
    "# print('x_d is a ' + str(type(x_d)))\n",
    "\n",
    "print(len(dict_583))"
   ]
  },
  {
   "cell_type": "code",
   "execution_count": 86,
   "metadata": {},
   "outputs": [
    {
     "data": {
      "text/plain": [
       "{'3': 'Rubenstein Library copy',\n",
       " 'a': 'Repaired;',\n",
       " 'k': 'lp',\n",
       " 'c': '20150317',\n",
       " 'f': 'NEH Project (FWC);'}"
      ]
     },
     "execution_count": 86,
     "metadata": {},
     "output_type": "execute_result"
    }
   ],
   "source": [
    "dict_583"
   ]
  },
  {
   "cell_type": "code",
   "execution_count": 29,
   "metadata": {
    "scrolled": true
   },
   "outputs": [
    {
     "data": {
      "text/plain": [
       "MISSING                                                                                                                                                                                   39851\n",
       "[{'a': 'Sloan candidate'}, {'k': 'lp'}, {'l': 'Tier 3'}]                                                                                                                                     40\n",
       "[{'a': 'will reformat'}, {'c': '07-16-90'}]                                                                                                                                                  31\n",
       "[{'a': 'Sloan candidate'}, {'k': 'lp'}, {'l': 'Tier 1'}]                                                                                                                                     14\n",
       "[{'a': 'digitized'}, {'c': '20150310'}, {'2': 'pda'}, {'5': 'GEU-S'}, {'x': 'public domain'}]                                                                                                 5\n",
       "[{'a': 'will reformat'}, {'c': '10-17-90'}]                                                                                                                                                   5\n",
       "[{'3': 'v.4, p.15'}, {'a': 'exhibited at JPGM'}, {'c': '11/14/95-01/28/96'}, {'k': 'ilp'}]                                                                                                    4\n",
       "[{'a': 'Repaired;'}, {'f': 'NEH Project (FWC);'}, {'c': '1991.'}]                                                                                                                             4\n",
       "[{'3': 'v. 1, 3;'}, {'a': 'rebound;'}, {'f': 'NEH;'}, {'f': 'Mellon;'}, {'h': 'Preservation Dept.;'}, {'i': 'signatures retained;'}, {'k': 'Conservation Div.;'}, {'l': 'reshelved.'}]        3\n",
       "[{'3': 'Rubenstein Library copy'}, {'a': 'former call number: Jantz #1470'}]                                                                                                                  3\n",
       "[{'3': 'Rubenstein Library copy'}, {'a': 'former call number: Jantz #1027'}]                                                                                                                  2\n",
       "[{'3': 'Rubenstein Library copy'}, {'a': 'former call number: E #5991'}]                                                                                                                      2\n",
       "[{'3': 'Rubenstein Library copy'}, {'a': 'former call number: E B796PO'}]                                                                                                                     2\n",
       "[{'a': 'repaired;'}, {'f': 'NEH;'}, {'f': 'Mellon;'}, {'h': 'Preservation Dept.;'}, {'i': 'cover;'}, {'k': 'Conservation Div.;'}, {'l': 'reshelve.'}]                                         2\n",
       "[{'3': 'Rubenstein Library copy'}, {'a': 'former call number: Jantz #661'}]                                                                                                                   2\n",
       "[{'a': 'will reformat'}, {'c': '05-18-90'}]                                                                                                                                                   2\n",
       "[{'a': 'will reformat'}, {'c': '10-15-90'}]                                                                                                                                                   2\n",
       "[{'a': 'digitized'}, {'c': '20150128'}, {'2': 'pda'}, {'5': 'GEU-S'}, {'x': 'public domain'}]                                                                                                 2\n",
       "[{'3': 'Rubenstein Library copy'}, {'a': 'former call number: Jantz #215'}]                                                                                                                   2\n",
       "[{'3': 'Rubenstein Library copy'}, {'a': 'former call number: Jantz #1523'}]                                                                                                                  1\n",
       "[{'3': 'Rubenstein Library copy'}, {'a': 'former call number: E B868CO'}]                                                                                                                     1\n",
       "[{'a': 'digitized'}, {'c': '20150317'}, {'2': 'pda'}, {'5': 'GEU-S'}, {'x': 'public domain'}]                                                                                                 1\n",
       "[{'3': 'Rubenstein Library copy'}, {'a': 'former call number: A-29 fF755SA'}]                                                                                                                 1\n",
       "[{'a': 'Will not digitize'}, {'c': '20121015'}, {'l': 'scanned by another institution'}, {'5': 'DNLM'}, {'2': 'pda'}]                                                                         1\n",
       "[{'3': 'Rubenstein Library copy'}, {'a': 'former call number: 15382'}]                                                                                                                        1\n",
       "[{'3': 'Rubenstein Library copy'}, {'a': 'former call number: E B983HA'}]                                                                                                                     1\n",
       "[{'a': 'digitized'}, {'c': '20150311'}, {'2': 'pda'}, {'5': 'GEU-S'}, {'x': 'public domain'}]                                                                                                 1\n",
       "[{'3': 'Rubenstein Library copy'}, {'a': 'former call number: A-28 fD866'}]                                                                                                                   1\n",
       "[{'3': 'Rubenstein Library copy'}, {'a': 'former call number: E f#88, v. 6'}]                                                                                                                 1\n",
       "[{'3': 'Rubenstein Library copy'}, {'a': 'former call number: E 12mo #7658'}]                                                                                                                 1\n",
       "[{'3': 'Rubenstein Library copy'}, {'a': 'former call number: Jantz #205'}]                                                                                                                   1\n",
       "[{'3': 'Rubenstein Library copy'}, {'a': 'former call number: 1962 Scott'}]                                                                                                                   1\n",
       "[{'3': 'Rubenstein Library copy'}, {'a': 'former call number: 027.756 Y68L'}]                                                                                                                 1\n",
       "[{'3': 'Rubenstein Library copy'}, {'a': 'former call number: Vivisection pamphlet'}]                                                                                                         1\n",
       "[{'a': 'digitized'}, {'c': '20150812'}, {'2': 'pda'}, {'5': 'GEU-S'}, {'x': 'public domain'}]                                                                                                 1\n",
       "[{'3': 'Rubenstein Library copy'}, {'a': 'former call number: Jantz #25'}]                                                                                                                    1\n",
       "[{'3': 'Rubenstein Library copy'}, {'a': 'former call number: LSC 3851'}]                                                                                                                     1\n",
       "[{'a': 'will reformat'}, {'c': '09-12-90'}]                                                                                                                                                   1\n",
       "[{'3': 'Rubenstein Library copy'}, {'a': 'former call number: Jantz #3339'}]                                                                                                                  1\n",
       "[{'a': 'committed to retain'}, {'c': '20170930'}, {'d': '20421231'}, {'f': 'HathiTrust'}, {'u': 'https://www.hathitrust.org/shared_print_program'}, {'5': 'OU.'}]                             1\n",
       "[{'a': 'will reformat'}, {'c': '08-18-93'}]                                                                                                                                                   1\n",
       "Name: 583, dtype: int64"
      ]
     },
     "execution_count": 29,
     "metadata": {},
     "output_type": "execute_result"
    }
   ],
   "source": [
    "dataframes['583'].value_counts()"
   ]
  },
  {
   "cell_type": "code",
   "execution_count": null,
   "metadata": {},
   "outputs": [],
   "source": []
  },
  {
   "cell_type": "code",
   "execution_count": null,
   "metadata": {},
   "outputs": [],
   "source": []
  },
  {
   "cell_type": "code",
   "execution_count": null,
   "metadata": {},
   "outputs": [],
   "source": []
  },
  {
   "cell_type": "code",
   "execution_count": 28,
   "metadata": {},
   "outputs": [
    {
     "data": {
      "text/html": [
       "<div>\n",
       "<style scoped>\n",
       "    .dataframe tbody tr th:only-of-type {\n",
       "        vertical-align: middle;\n",
       "    }\n",
       "\n",
       "    .dataframe tbody tr th {\n",
       "        vertical-align: top;\n",
       "    }\n",
       "\n",
       "    .dataframe thead th {\n",
       "        text-align: right;\n",
       "    }\n",
       "</style>\n",
       "<table border=\"1\" class=\"dataframe\">\n",
       "  <thead>\n",
       "    <tr style=\"text-align: right;\">\n",
       "      <th></th>\n",
       "      <th>fields</th>\n",
       "      <th>leader</th>\n",
       "    </tr>\n",
       "  </thead>\n",
       "  <tbody>\n",
       "    <tr>\n",
       "      <th>0</th>\n",
       "      <td>[{'001': '011382118'}, {'003': 'MiAaHDL'}, {'0...</td>\n",
       "      <td>00866nam a22002533u 4500</td>\n",
       "    </tr>\n",
       "    <tr>\n",
       "      <th>1</th>\n",
       "      <td>[{'001': '011382119'}, {'003': 'MiAaHDL'}, {'0...</td>\n",
       "      <td>00791nam a22002413u 4500</td>\n",
       "    </tr>\n",
       "    <tr>\n",
       "      <th>2</th>\n",
       "      <td>[{'001': '011382120'}, {'003': 'MiAaHDL'}, {'0...</td>\n",
       "      <td>01296nam a22002653u 4500</td>\n",
       "    </tr>\n",
       "    <tr>\n",
       "      <th>3</th>\n",
       "      <td>[{'001': '011382121'}, {'003': 'MiAaHDL'}, {'0...</td>\n",
       "      <td>01055nam a22002533u 4500</td>\n",
       "    </tr>\n",
       "    <tr>\n",
       "      <th>4</th>\n",
       "      <td>[{'001': '011382122'}, {'003': 'MiAaHDL'}, {'0...</td>\n",
       "      <td>00934nam a22002533u 4500</td>\n",
       "    </tr>\n",
       "    <tr>\n",
       "      <th>5</th>\n",
       "      <td>[{'001': '011382123'}, {'003': 'MiAaHDL'}, {'0...</td>\n",
       "      <td>00944nam a22002773u 4500</td>\n",
       "    </tr>\n",
       "    <tr>\n",
       "      <th>6</th>\n",
       "      <td>[{'001': '011382124'}, {'003': 'MiAaHDL'}, {'0...</td>\n",
       "      <td>00904nam a22002533u 4500</td>\n",
       "    </tr>\n",
       "    <tr>\n",
       "      <th>7</th>\n",
       "      <td>[{'001': '011382125'}, {'003': 'MiAaHDL'}, {'0...</td>\n",
       "      <td>01031nam a22002653u 4500</td>\n",
       "    </tr>\n",
       "    <tr>\n",
       "      <th>8</th>\n",
       "      <td>[{'001': '011382126'}, {'003': 'MiAaHDL'}, {'0...</td>\n",
       "      <td>00984nam a22002653u 4500</td>\n",
       "    </tr>\n",
       "    <tr>\n",
       "      <th>9</th>\n",
       "      <td>[{'001': '011382127'}, {'003': 'MiAaHDL'}, {'0...</td>\n",
       "      <td>00890nam a22002533u 4500</td>\n",
       "    </tr>\n",
       "  </tbody>\n",
       "</table>\n",
       "</div>"
      ],
      "text/plain": [
       "                                              fields                    leader\n",
       "0  [{'001': '011382118'}, {'003': 'MiAaHDL'}, {'0...  00866nam a22002533u 4500\n",
       "1  [{'001': '011382119'}, {'003': 'MiAaHDL'}, {'0...  00791nam a22002413u 4500\n",
       "2  [{'001': '011382120'}, {'003': 'MiAaHDL'}, {'0...  01296nam a22002653u 4500\n",
       "3  [{'001': '011382121'}, {'003': 'MiAaHDL'}, {'0...  01055nam a22002533u 4500\n",
       "4  [{'001': '011382122'}, {'003': 'MiAaHDL'}, {'0...  00934nam a22002533u 4500\n",
       "5  [{'001': '011382123'}, {'003': 'MiAaHDL'}, {'0...  00944nam a22002773u 4500\n",
       "6  [{'001': '011382124'}, {'003': 'MiAaHDL'}, {'0...  00904nam a22002533u 4500\n",
       "7  [{'001': '011382125'}, {'003': 'MiAaHDL'}, {'0...  01031nam a22002653u 4500\n",
       "8  [{'001': '011382126'}, {'003': 'MiAaHDL'}, {'0...  00984nam a22002653u 4500\n",
       "9  [{'001': '011382127'}, {'003': 'MiAaHDL'}, {'0...  00890nam a22002533u 4500"
      ]
     },
     "execution_count": 28,
     "metadata": {},
     "output_type": "execute_result"
    }
   ],
   "source": [
    "data.head(10)"
   ]
  },
  {
   "cell_type": "code",
   "execution_count": 13,
   "metadata": {},
   "outputs": [
    {
     "data": {
      "text/plain": [
       "<_io.TextIOWrapper name='meta_restricted_20190628.jsonl' mode='r' encoding='UTF-8'>"
      ]
     },
     "execution_count": 13,
     "metadata": {},
     "output_type": "execute_result"
    }
   ],
   "source": [
    "j_data\n",
    "\n",
    "# df2 = pd.DataFrame.from_records(j_data)\n",
    "\n",
    "# df2.head()\n",
    "\n",
    "# k = json.loads(j_data)\n",
    "\n",
    "# # data = json.loads(elevations)\n",
    "# mm = json_normalize(k)"
   ]
  },
  {
   "cell_type": "code",
   "execution_count": 12,
   "metadata": {},
   "outputs": [
    {
     "data": {
      "text/html": [
       "<div>\n",
       "<style scoped>\n",
       "    .dataframe tbody tr th:only-of-type {\n",
       "        vertical-align: middle;\n",
       "    }\n",
       "\n",
       "    .dataframe tbody tr th {\n",
       "        vertical-align: top;\n",
       "    }\n",
       "\n",
       "    .dataframe thead th {\n",
       "        text-align: right;\n",
       "    }\n",
       "</style>\n",
       "<table border=\"1\" class=\"dataframe\">\n",
       "  <thead>\n",
       "    <tr style=\"text-align: right;\">\n",
       "      <th></th>\n",
       "    </tr>\n",
       "  </thead>\n",
       "  <tbody>\n",
       "  </tbody>\n",
       "</table>\n",
       "</div>"
      ],
      "text/plain": [
       "Empty DataFrame\n",
       "Columns: []\n",
       "Index: []"
      ]
     },
     "execution_count": 12,
     "metadata": {},
     "output_type": "execute_result"
    }
   ],
   "source": [
    "df2.head()"
   ]
  },
  {
   "cell_type": "code",
   "execution_count": 33,
   "metadata": {},
   "outputs": [
    {
     "name": "stdout",
     "output_type": "stream",
     "text": [
      "                                              fields                    leader\n",
      "0  [{'001': '000013431'}, {'003': 'MiAaHDL'}, {'0...  01030nam a22002891  4500\n",
      "1  [{'001': '000028724'}, {'003': 'MiAaHDL'}, {'0...  01016nam a22003251i 4500\n",
      "2  [{'001': '000055197'}, {'003': 'MiAaHDL'}, {'0...  017976as a2200385   4500\n",
      "3  [{'001': '000055197'}, {'003': 'MiAaHDL'}, {'0...  017976as a2200385   4500\n",
      "4  [{'001': '000055197'}, {'003': 'MiAaHDL'}, {'0...  017976as a2200385   4500\n",
      "Empty DataFrame\n",
      "Columns: []\n",
      "Index: []\n",
      "Empty DataFrame\n",
      "Columns: []\n",
      "Index: []\n"
     ]
    }
   ],
   "source": [
    "for df in df_list:\n",
    "    df_name = df\n",
    "    print(df_name.head())\n",
    "#     for i in df_name.index:\n",
    "#         t = str(dfStop['500'][i])\n",
    "#         s_t = t.split()\n",
    "#         tokens_500.append(s_t)\n",
    "        "
   ]
  },
  {
   "cell_type": "code",
   "execution_count": 28,
   "metadata": {},
   "outputs": [
    {
     "ename": "AttributeError",
     "evalue": "'str' object has no attribute 'values'",
     "output_type": "error",
     "traceback": [
      "\u001b[0;31m---------------------------------------------------------------------------\u001b[0m",
      "\u001b[0;31mAttributeError\u001b[0m                            Traceback (most recent call last)",
      "\u001b[0;32m<ipython-input-28-90a884892dfb>\u001b[0m in \u001b[0;36m<module>\u001b[0;34m\u001b[0m\n\u001b[0;32m----> 1\u001b[0;31m \u001b[0mdata_n\u001b[0m \u001b[0;34m=\u001b[0m \u001b[0mjson_normalize\u001b[0m\u001b[0;34m(\u001b[0m\u001b[0mdata\u001b[0m\u001b[0;34m)\u001b[0m\u001b[0;34m\u001b[0m\u001b[0;34m\u001b[0m\u001b[0m\n\u001b[0m\u001b[1;32m      2\u001b[0m \u001b[0;34m\u001b[0m\u001b[0m\n\u001b[1;32m      3\u001b[0m \u001b[0mdata_n\u001b[0m\u001b[0;34m\u001b[0m\u001b[0;34m\u001b[0m\u001b[0m\n",
      "\u001b[0;32m/anaconda3/lib/python3.7/site-packages/pandas/io/json/normalize.py\u001b[0m in \u001b[0;36mjson_normalize\u001b[0;34m(data, record_path, meta, meta_prefix, record_prefix, errors, sep)\u001b[0m\n\u001b[1;32m    200\u001b[0m     \u001b[0;32mif\u001b[0m \u001b[0mrecord_path\u001b[0m \u001b[0;32mis\u001b[0m \u001b[0;32mNone\u001b[0m\u001b[0;34m:\u001b[0m\u001b[0;34m\u001b[0m\u001b[0;34m\u001b[0m\u001b[0m\n\u001b[1;32m    201\u001b[0m         if any([isinstance(x, dict)\n\u001b[0;32m--> 202\u001b[0;31m                 for x in compat.itervalues(y)] for y in data):\n\u001b[0m\u001b[1;32m    203\u001b[0m             \u001b[0;31m# naive normalization, this is idempotent for flat records\u001b[0m\u001b[0;34m\u001b[0m\u001b[0;34m\u001b[0m\u001b[0;34m\u001b[0m\u001b[0m\n\u001b[1;32m    204\u001b[0m             \u001b[0;31m# and potentially will inflate the data considerably for\u001b[0m\u001b[0;34m\u001b[0m\u001b[0;34m\u001b[0m\u001b[0;34m\u001b[0m\u001b[0m\n",
      "\u001b[0;32m/anaconda3/lib/python3.7/site-packages/pandas/io/json/normalize.py\u001b[0m in \u001b[0;36m<genexpr>\u001b[0;34m(.0)\u001b[0m\n\u001b[1;32m    200\u001b[0m     \u001b[0;32mif\u001b[0m \u001b[0mrecord_path\u001b[0m \u001b[0;32mis\u001b[0m \u001b[0;32mNone\u001b[0m\u001b[0;34m:\u001b[0m\u001b[0;34m\u001b[0m\u001b[0;34m\u001b[0m\u001b[0m\n\u001b[1;32m    201\u001b[0m         if any([isinstance(x, dict)\n\u001b[0;32m--> 202\u001b[0;31m                 for x in compat.itervalues(y)] for y in data):\n\u001b[0m\u001b[1;32m    203\u001b[0m             \u001b[0;31m# naive normalization, this is idempotent for flat records\u001b[0m\u001b[0;34m\u001b[0m\u001b[0;34m\u001b[0m\u001b[0;34m\u001b[0m\u001b[0m\n\u001b[1;32m    204\u001b[0m             \u001b[0;31m# and potentially will inflate the data considerably for\u001b[0m\u001b[0;34m\u001b[0m\u001b[0;34m\u001b[0m\u001b[0;34m\u001b[0m\u001b[0m\n",
      "\u001b[0;32m/anaconda3/lib/python3.7/site-packages/pandas/compat/__init__.py\u001b[0m in \u001b[0;36mitervalues\u001b[0;34m(obj, **kw)\u001b[0m\n\u001b[1;32m    226\u001b[0m \u001b[0;34m\u001b[0m\u001b[0m\n\u001b[1;32m    227\u001b[0m     \u001b[0;32mdef\u001b[0m \u001b[0mitervalues\u001b[0m\u001b[0;34m(\u001b[0m\u001b[0mobj\u001b[0m\u001b[0;34m,\u001b[0m \u001b[0;34m**\u001b[0m\u001b[0mkw\u001b[0m\u001b[0;34m)\u001b[0m\u001b[0;34m:\u001b[0m\u001b[0;34m\u001b[0m\u001b[0;34m\u001b[0m\u001b[0m\n\u001b[0;32m--> 228\u001b[0;31m         \u001b[0;32mreturn\u001b[0m \u001b[0miter\u001b[0m\u001b[0;34m(\u001b[0m\u001b[0mobj\u001b[0m\u001b[0;34m.\u001b[0m\u001b[0mvalues\u001b[0m\u001b[0;34m(\u001b[0m\u001b[0;34m**\u001b[0m\u001b[0mkw\u001b[0m\u001b[0;34m)\u001b[0m\u001b[0;34m)\u001b[0m\u001b[0;34m\u001b[0m\u001b[0;34m\u001b[0m\u001b[0m\n\u001b[0m\u001b[1;32m    229\u001b[0m \u001b[0;34m\u001b[0m\u001b[0m\n\u001b[1;32m    230\u001b[0m     \u001b[0mnext\u001b[0m \u001b[0;34m=\u001b[0m \u001b[0mnext\u001b[0m\u001b[0;34m\u001b[0m\u001b[0;34m\u001b[0m\u001b[0m\n",
      "\u001b[0;31mAttributeError\u001b[0m: 'str' object has no attribute 'values'"
     ]
    }
   ],
   "source": [
    "data = json.loads(elevations)\n",
    "json_normalize(data['results'])"
   ]
  },
  {
   "cell_type": "code",
   "execution_count": 16,
   "metadata": {},
   "outputs": [
    {
     "data": {
      "text/html": [
       "<div>\n",
       "<style scoped>\n",
       "    .dataframe tbody tr th:only-of-type {\n",
       "        vertical-align: middle;\n",
       "    }\n",
       "\n",
       "    .dataframe tbody tr th {\n",
       "        vertical-align: top;\n",
       "    }\n",
       "\n",
       "    .dataframe thead th {\n",
       "        text-align: right;\n",
       "    }\n",
       "</style>\n",
       "<table border=\"1\" class=\"dataframe\">\n",
       "  <thead>\n",
       "    <tr style=\"text-align: right;\">\n",
       "      <th></th>\n",
       "    </tr>\n",
       "  </thead>\n",
       "  <tbody>\n",
       "  </tbody>\n",
       "</table>\n",
       "</div>"
      ],
      "text/plain": [
       "Empty DataFrame\n",
       "Columns: []\n",
       "Index: []"
      ]
     },
     "execution_count": 16,
     "metadata": {},
     "output_type": "execute_result"
    }
   ],
   "source": []
  },
  {
   "cell_type": "code",
   "execution_count": null,
   "metadata": {},
   "outputs": [],
   "source": []
  }
 ],
 "metadata": {
  "kernelspec": {
   "display_name": "Python 3",
   "language": "python",
   "name": "python3"
  },
  "language_info": {
   "codemirror_mode": {
    "name": "ipython",
    "version": 3
   },
   "file_extension": ".py",
   "mimetype": "text/x-python",
   "name": "python",
   "nbconvert_exporter": "python",
   "pygments_lexer": "ipython3",
   "version": "3.7.3"
  }
 },
 "nbformat": 4,
 "nbformat_minor": 2
}
