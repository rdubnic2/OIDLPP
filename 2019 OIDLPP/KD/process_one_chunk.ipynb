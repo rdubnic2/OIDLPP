{
 "cells": [
  {
   "cell_type": "code",
   "execution_count": 2,
   "metadata": {},
   "outputs": [],
   "source": [
    "import json\n",
    "import pprint\n",
    "import csv\n",
    "import os"
   ]
  },
  {
   "cell_type": "code",
   "execution_count": 6,
   "metadata": {},
   "outputs": [
    {
     "data": {
      "text/plain": [
       "['/home/dcuser/Desktop/htrc-metadata/meta-chunks/pd_open_access/open_segment_bx',\n",
       " '/home/dcuser/Desktop/htrc-metadata/meta-chunks/pd_open_access/open_segment_ak',\n",
       " '/home/dcuser/Desktop/htrc-metadata/meta-chunks/pd_open_access/open_segment_by',\n",
       " '/home/dcuser/Desktop/htrc-metadata/meta-chunks/pd_open_access/open_segment_cn',\n",
       " '/home/dcuser/Desktop/htrc-metadata/meta-chunks/pd_open_access/open_segment_ct',\n",
       " '/home/dcuser/Desktop/htrc-metadata/meta-chunks/pd_open_access/open_segment_cm',\n",
       " '/home/dcuser/Desktop/htrc-metadata/meta-chunks/pd_open_access/open_segment_ap',\n",
       " '/home/dcuser/Desktop/htrc-metadata/meta-chunks/pd_open_access/open_segment_ci',\n",
       " '/home/dcuser/Desktop/htrc-metadata/meta-chunks/pd_open_access/open_segment_bn',\n",
       " '/home/dcuser/Desktop/htrc-metadata/meta-chunks/pd_open_access/open_segment_as',\n",
       " '/home/dcuser/Desktop/htrc-metadata/meta-chunks/pd_open_access/open_segment_cw',\n",
       " '/home/dcuser/Desktop/htrc-metadata/meta-chunks/pd_open_access/open_segment_ay',\n",
       " '/home/dcuser/Desktop/htrc-metadata/meta-chunks/pd_open_access/open_segment_bz',\n",
       " '/home/dcuser/Desktop/htrc-metadata/meta-chunks/pd_open_access/open_segment_bj',\n",
       " '/home/dcuser/Desktop/htrc-metadata/meta-chunks/pd_open_access/open_segment_ac',\n",
       " '/home/dcuser/Desktop/htrc-metadata/meta-chunks/pd_open_access/open_segment_bg',\n",
       " '/home/dcuser/Desktop/htrc-metadata/meta-chunks/pd_open_access/open_segment_bu',\n",
       " '/home/dcuser/Desktop/htrc-metadata/meta-chunks/pd_open_access/open_segment_cy',\n",
       " '/home/dcuser/Desktop/htrc-metadata/meta-chunks/pd_open_access/open_segment_ab',\n",
       " '/home/dcuser/Desktop/htrc-metadata/meta-chunks/pd_open_access/open_segment_ar',\n",
       " '/home/dcuser/Desktop/htrc-metadata/meta-chunks/pd_open_access/open_segment_bd',\n",
       " '/home/dcuser/Desktop/htrc-metadata/meta-chunks/pd_open_access/open_segment_bv',\n",
       " '/home/dcuser/Desktop/htrc-metadata/meta-chunks/pd_open_access/open_segment_cg',\n",
       " '/home/dcuser/Desktop/htrc-metadata/meta-chunks/pd_open_access/open_segment_cr',\n",
       " '/home/dcuser/Desktop/htrc-metadata/meta-chunks/pd_open_access/open_segment_cb',\n",
       " '/home/dcuser/Desktop/htrc-metadata/meta-chunks/pd_open_access/open_segment_ao',\n",
       " '/home/dcuser/Desktop/htrc-metadata/meta-chunks/pd_open_access/open_segment_cu',\n",
       " '/home/dcuser/Desktop/htrc-metadata/meta-chunks/pd_open_access/open_segment_cx',\n",
       " '/home/dcuser/Desktop/htrc-metadata/meta-chunks/pd_open_access/open_segment_az',\n",
       " '/home/dcuser/Desktop/htrc-metadata/meta-chunks/pd_open_access/open_segment_al',\n",
       " '/home/dcuser/Desktop/htrc-metadata/meta-chunks/pd_open_access/open_segment_ba',\n",
       " '/home/dcuser/Desktop/htrc-metadata/meta-chunks/pd_open_access/open_segment_aq',\n",
       " '/home/dcuser/Desktop/htrc-metadata/meta-chunks/pd_open_access/open_segment_be',\n",
       " '/home/dcuser/Desktop/htrc-metadata/meta-chunks/pd_open_access/open_segment_an',\n",
       " '/home/dcuser/Desktop/htrc-metadata/meta-chunks/pd_open_access/open_segment_cz',\n",
       " '/home/dcuser/Desktop/htrc-metadata/meta-chunks/pd_open_access/open_segment_bf',\n",
       " '/home/dcuser/Desktop/htrc-metadata/meta-chunks/pd_open_access/open_segment_bh',\n",
       " '/home/dcuser/Desktop/htrc-metadata/meta-chunks/pd_open_access/open_segment_ce',\n",
       " '/home/dcuser/Desktop/htrc-metadata/meta-chunks/pd_open_access/open_segment_bb',\n",
       " '/home/dcuser/Desktop/htrc-metadata/meta-chunks/pd_open_access/open_segment_cl',\n",
       " '/home/dcuser/Desktop/htrc-metadata/meta-chunks/pd_open_access/open_segment_bi',\n",
       " '/home/dcuser/Desktop/htrc-metadata/meta-chunks/pd_open_access/open_segment_ad',\n",
       " '/home/dcuser/Desktop/htrc-metadata/meta-chunks/pd_open_access/open_segment_cq',\n",
       " '/home/dcuser/Desktop/htrc-metadata/meta-chunks/pd_open_access/open_segment_br',\n",
       " '/home/dcuser/Desktop/htrc-metadata/meta-chunks/pd_open_access/open_segment_db',\n",
       " '/home/dcuser/Desktop/htrc-metadata/meta-chunks/pd_open_access/open_segment_ck',\n",
       " '/home/dcuser/Desktop/htrc-metadata/meta-chunks/pd_open_access/open_segment_cc',\n",
       " '/home/dcuser/Desktop/htrc-metadata/meta-chunks/pd_open_access/open_segment_aw',\n",
       " '/home/dcuser/Desktop/htrc-metadata/meta-chunks/pd_open_access/open_segment_cj',\n",
       " '/home/dcuser/Desktop/htrc-metadata/meta-chunks/pd_open_access/open_segment_bm',\n",
       " '/home/dcuser/Desktop/htrc-metadata/meta-chunks/pd_open_access/open_segment_cs',\n",
       " '/home/dcuser/Desktop/htrc-metadata/meta-chunks/pd_open_access/open_segment_ae',\n",
       " '/home/dcuser/Desktop/htrc-metadata/meta-chunks/pd_open_access/open_segment_cv',\n",
       " '/home/dcuser/Desktop/htrc-metadata/meta-chunks/pd_open_access/open_segment_bc',\n",
       " '/home/dcuser/Desktop/htrc-metadata/meta-chunks/pd_open_access/open_segment_au',\n",
       " '/home/dcuser/Desktop/htrc-metadata/meta-chunks/pd_open_access/open_segment_ca',\n",
       " '/home/dcuser/Desktop/htrc-metadata/meta-chunks/pd_open_access/open_segment_cp',\n",
       " '/home/dcuser/Desktop/htrc-metadata/meta-chunks/pd_open_access/open_segment_ax',\n",
       " '/home/dcuser/Desktop/htrc-metadata/meta-chunks/pd_open_access/open_segment_ch',\n",
       " '/home/dcuser/Desktop/htrc-metadata/meta-chunks/pd_open_access/open_segment_bl',\n",
       " '/home/dcuser/Desktop/htrc-metadata/meta-chunks/pd_open_access/open_segment_ah',\n",
       " '/home/dcuser/Desktop/htrc-metadata/meta-chunks/pd_open_access/open_segment_bt',\n",
       " '/home/dcuser/Desktop/htrc-metadata/meta-chunks/pd_open_access/open_segment_ag',\n",
       " '/home/dcuser/Desktop/htrc-metadata/meta-chunks/pd_open_access/open_segment_av',\n",
       " '/home/dcuser/Desktop/htrc-metadata/meta-chunks/pd_open_access/open_segment_cf',\n",
       " '/home/dcuser/Desktop/htrc-metadata/meta-chunks/pd_open_access/open_segment_da',\n",
       " '/home/dcuser/Desktop/htrc-metadata/meta-chunks/pd_open_access/open_segment_am',\n",
       " '/home/dcuser/Desktop/htrc-metadata/meta-chunks/pd_open_access/open_segment_cd',\n",
       " '/home/dcuser/Desktop/htrc-metadata/meta-chunks/pd_open_access/open_segment_ai',\n",
       " '/home/dcuser/Desktop/htrc-metadata/meta-chunks/pd_open_access/open_segment_bq',\n",
       " '/home/dcuser/Desktop/htrc-metadata/meta-chunks/pd_open_access/open_segment_af',\n",
       " '/home/dcuser/Desktop/htrc-metadata/meta-chunks/pd_open_access/open_segment_co',\n",
       " '/home/dcuser/Desktop/htrc-metadata/meta-chunks/pd_open_access/open_segment_at',\n",
       " '/home/dcuser/Desktop/htrc-metadata/meta-chunks/pd_open_access/open_segment_bo',\n",
       " '/home/dcuser/Desktop/htrc-metadata/meta-chunks/pd_open_access/open_segment_aa',\n",
       " '/home/dcuser/Desktop/htrc-metadata/meta-chunks/pd_open_access/open_segment_aj',\n",
       " '/home/dcuser/Desktop/htrc-metadata/meta-chunks/pd_open_access/open_segment_bp',\n",
       " '/home/dcuser/Desktop/htrc-metadata/meta-chunks/pd_open_access/open_segment_bw',\n",
       " '/home/dcuser/Desktop/htrc-metadata/meta-chunks/pd_open_access/open_segment_bs',\n",
       " '/home/dcuser/Desktop/htrc-metadata/meta-chunks/pd_open_access/open_segment_bk']"
      ]
     },
     "execution_count": 6,
     "metadata": {},
     "output_type": "execute_result"
    }
   ],
   "source": [
    "rootdir = '/home/dcuser/Desktop/htrc-metadata/meta-chunks/pd_open_access/'\n",
    "\n",
    "path_list = []\n",
    "\n",
    "for subdir, dirs, files in os.walk(rootdir):\n",
    "    for file in files:\n",
    "        filepath = os.path.join(subdir, file)\n",
    "        path_list.append(filepath)\n",
    "path_list.remove('/home/dcuser/Desktop/htrc-metadata/meta-chunks/pd_open_access/.~lock.open_segment_aa#')\n",
    "\n",
    "path_list"
   ]
  },
  {
   "cell_type": "code",
   "execution_count": 5,
   "metadata": {},
   "outputs": [
    {
     "ename": "JSONDecodeError",
     "evalue": "Expecting value: line 1 column 1 (char 0)",
     "output_type": "error",
     "traceback": [
      "\u001b[0;31m---------------------------------------------------------------------------\u001b[0m",
      "\u001b[0;31mJSONDecodeError\u001b[0m                           Traceback (most recent call last)",
      "\u001b[0;32m<ipython-input-5-682d5c5add4b>\u001b[0m in \u001b[0;36m<module>\u001b[0;34m()\u001b[0m\n\u001b[1;32m      4\u001b[0m     \u001b[0;32mwith\u001b[0m \u001b[0mopen\u001b[0m\u001b[0;34m(\u001b[0m\u001b[0mpath\u001b[0m\u001b[0;34m,\u001b[0m \u001b[0;34m'r'\u001b[0m\u001b[0;34m)\u001b[0m \u001b[0;32mas\u001b[0m \u001b[0mfin\u001b[0m\u001b[0;34m:\u001b[0m \u001b[0;31m# file path to directory--WILL NEED TO CHANGE THIS EACH RUN\u001b[0m\u001b[0;34m\u001b[0m\u001b[0m\n\u001b[1;32m      5\u001b[0m         \u001b[0;32mfor\u001b[0m \u001b[0mline\u001b[0m \u001b[0;32min\u001b[0m \u001b[0mfin\u001b[0m\u001b[0;34m:\u001b[0m\u001b[0;34m\u001b[0m\u001b[0m\n\u001b[0;32m----> 6\u001b[0;31m             \u001b[0mrow\u001b[0m \u001b[0;34m=\u001b[0m \u001b[0mjson\u001b[0m\u001b[0;34m.\u001b[0m\u001b[0mloads\u001b[0m\u001b[0;34m(\u001b[0m\u001b[0mline\u001b[0m\u001b[0;34m)\u001b[0m\u001b[0;34m\u001b[0m\u001b[0m\n\u001b[0m\u001b[1;32m      7\u001b[0m             \u001b[0mdata_2\u001b[0m\u001b[0;34m.\u001b[0m\u001b[0mappend\u001b[0m\u001b[0;34m(\u001b[0m\u001b[0mrow\u001b[0m\u001b[0;34m)\u001b[0m\u001b[0;34m\u001b[0m\u001b[0m\n",
      "\u001b[0;32m/opt/anaconda/lib/python3.6/json/__init__.py\u001b[0m in \u001b[0;36mloads\u001b[0;34m(s, encoding, cls, object_hook, parse_float, parse_int, parse_constant, object_pairs_hook, **kw)\u001b[0m\n\u001b[1;32m    352\u001b[0m             \u001b[0mparse_int\u001b[0m \u001b[0;32mis\u001b[0m \u001b[0;32mNone\u001b[0m \u001b[0;32mand\u001b[0m \u001b[0mparse_float\u001b[0m \u001b[0;32mis\u001b[0m \u001b[0;32mNone\u001b[0m \u001b[0;32mand\u001b[0m\u001b[0;34m\u001b[0m\u001b[0m\n\u001b[1;32m    353\u001b[0m             parse_constant is None and object_pairs_hook is None and not kw):\n\u001b[0;32m--> 354\u001b[0;31m         \u001b[0;32mreturn\u001b[0m \u001b[0m_default_decoder\u001b[0m\u001b[0;34m.\u001b[0m\u001b[0mdecode\u001b[0m\u001b[0;34m(\u001b[0m\u001b[0ms\u001b[0m\u001b[0;34m)\u001b[0m\u001b[0;34m\u001b[0m\u001b[0m\n\u001b[0m\u001b[1;32m    355\u001b[0m     \u001b[0;32mif\u001b[0m \u001b[0mcls\u001b[0m \u001b[0;32mis\u001b[0m \u001b[0;32mNone\u001b[0m\u001b[0;34m:\u001b[0m\u001b[0;34m\u001b[0m\u001b[0m\n\u001b[1;32m    356\u001b[0m         \u001b[0mcls\u001b[0m \u001b[0;34m=\u001b[0m \u001b[0mJSONDecoder\u001b[0m\u001b[0;34m\u001b[0m\u001b[0m\n",
      "\u001b[0;32m/opt/anaconda/lib/python3.6/json/decoder.py\u001b[0m in \u001b[0;36mdecode\u001b[0;34m(self, s, _w)\u001b[0m\n\u001b[1;32m    337\u001b[0m \u001b[0;34m\u001b[0m\u001b[0m\n\u001b[1;32m    338\u001b[0m         \"\"\"\n\u001b[0;32m--> 339\u001b[0;31m         \u001b[0mobj\u001b[0m\u001b[0;34m,\u001b[0m \u001b[0mend\u001b[0m \u001b[0;34m=\u001b[0m \u001b[0mself\u001b[0m\u001b[0;34m.\u001b[0m\u001b[0mraw_decode\u001b[0m\u001b[0;34m(\u001b[0m\u001b[0ms\u001b[0m\u001b[0;34m,\u001b[0m \u001b[0midx\u001b[0m\u001b[0;34m=\u001b[0m\u001b[0m_w\u001b[0m\u001b[0;34m(\u001b[0m\u001b[0ms\u001b[0m\u001b[0;34m,\u001b[0m \u001b[0;36m0\u001b[0m\u001b[0;34m)\u001b[0m\u001b[0;34m.\u001b[0m\u001b[0mend\u001b[0m\u001b[0;34m(\u001b[0m\u001b[0;34m)\u001b[0m\u001b[0;34m)\u001b[0m\u001b[0;34m\u001b[0m\u001b[0m\n\u001b[0m\u001b[1;32m    340\u001b[0m         \u001b[0mend\u001b[0m \u001b[0;34m=\u001b[0m \u001b[0m_w\u001b[0m\u001b[0;34m(\u001b[0m\u001b[0ms\u001b[0m\u001b[0;34m,\u001b[0m \u001b[0mend\u001b[0m\u001b[0;34m)\u001b[0m\u001b[0;34m.\u001b[0m\u001b[0mend\u001b[0m\u001b[0;34m(\u001b[0m\u001b[0;34m)\u001b[0m\u001b[0;34m\u001b[0m\u001b[0m\n\u001b[1;32m    341\u001b[0m         \u001b[0;32mif\u001b[0m \u001b[0mend\u001b[0m \u001b[0;34m!=\u001b[0m \u001b[0mlen\u001b[0m\u001b[0;34m(\u001b[0m\u001b[0ms\u001b[0m\u001b[0;34m)\u001b[0m\u001b[0;34m:\u001b[0m\u001b[0;34m\u001b[0m\u001b[0m\n",
      "\u001b[0;32m/opt/anaconda/lib/python3.6/json/decoder.py\u001b[0m in \u001b[0;36mraw_decode\u001b[0;34m(self, s, idx)\u001b[0m\n\u001b[1;32m    355\u001b[0m             \u001b[0mobj\u001b[0m\u001b[0;34m,\u001b[0m \u001b[0mend\u001b[0m \u001b[0;34m=\u001b[0m \u001b[0mself\u001b[0m\u001b[0;34m.\u001b[0m\u001b[0mscan_once\u001b[0m\u001b[0;34m(\u001b[0m\u001b[0ms\u001b[0m\u001b[0;34m,\u001b[0m \u001b[0midx\u001b[0m\u001b[0;34m)\u001b[0m\u001b[0;34m\u001b[0m\u001b[0m\n\u001b[1;32m    356\u001b[0m         \u001b[0;32mexcept\u001b[0m \u001b[0mStopIteration\u001b[0m \u001b[0;32mas\u001b[0m \u001b[0merr\u001b[0m\u001b[0;34m:\u001b[0m\u001b[0;34m\u001b[0m\u001b[0m\n\u001b[0;32m--> 357\u001b[0;31m             \u001b[0;32mraise\u001b[0m \u001b[0mJSONDecodeError\u001b[0m\u001b[0;34m(\u001b[0m\u001b[0;34m\"Expecting value\"\u001b[0m\u001b[0;34m,\u001b[0m \u001b[0ms\u001b[0m\u001b[0;34m,\u001b[0m \u001b[0merr\u001b[0m\u001b[0;34m.\u001b[0m\u001b[0mvalue\u001b[0m\u001b[0;34m)\u001b[0m \u001b[0;32mfrom\u001b[0m \u001b[0;32mNone\u001b[0m\u001b[0;34m\u001b[0m\u001b[0m\n\u001b[0m\u001b[1;32m    358\u001b[0m         \u001b[0;32mreturn\u001b[0m \u001b[0mobj\u001b[0m\u001b[0;34m,\u001b[0m \u001b[0mend\u001b[0m\u001b[0;34m\u001b[0m\u001b[0m\n",
      "\u001b[0;31mJSONDecodeError\u001b[0m: Expecting value: line 1 column 1 (char 0)"
     ]
    }
   ],
   "source": [
    "data_2 = []\n",
    "\n",
    "for path in path_list:\n",
    "    with open(path, 'r') as fin: # file path to directory--WILL NEED TO CHANGE THIS EACH RUN\n",
    "        for line in fin:\n",
    "            row = json.loads(line)\n",
    "            data_2.append(row)"
   ]
  },
  {
   "cell_type": "code",
   "execution_count": 603,
   "metadata": {},
   "outputs": [
    {
     "ename": "FileNotFoundError",
     "evalue": "[Errno 2] No such file or directory: '/home/dcuser/Desktop/htrc-metadata/meta-chunks/pd_open_access/open_segment_dc'",
     "output_type": "error",
     "traceback": [
      "\u001b[0;31m---------------------------------------------------------------------------\u001b[0m",
      "\u001b[0;31mFileNotFoundError\u001b[0m                         Traceback (most recent call last)",
      "\u001b[0;32m<ipython-input-603-43fbdd9f3699>\u001b[0m in \u001b[0;36m<module>\u001b[0;34m()\u001b[0m\n\u001b[1;32m      1\u001b[0m \u001b[0mdata\u001b[0m \u001b[0;34m=\u001b[0m \u001b[0;34m[\u001b[0m\u001b[0;34m]\u001b[0m\u001b[0;34m\u001b[0m\u001b[0m\n\u001b[0;32m----> 2\u001b[0;31m \u001b[0;32mwith\u001b[0m \u001b[0mopen\u001b[0m\u001b[0;34m(\u001b[0m\u001b[0;34m'/home/dcuser/Desktop/htrc-metadata/meta-chunks/pd_open_access/open_segment_dc'\u001b[0m\u001b[0;34m,\u001b[0m \u001b[0;34m'r'\u001b[0m\u001b[0;34m)\u001b[0m \u001b[0;32mas\u001b[0m \u001b[0mfin\u001b[0m\u001b[0;34m:\u001b[0m \u001b[0;31m# file path to directory--WILL NEED TO CHANGE THIS EACH RUN\u001b[0m\u001b[0;34m\u001b[0m\u001b[0m\n\u001b[0m\u001b[1;32m      3\u001b[0m     \u001b[0;32mfor\u001b[0m \u001b[0mline\u001b[0m \u001b[0;32min\u001b[0m \u001b[0mfin\u001b[0m\u001b[0;34m:\u001b[0m\u001b[0;34m\u001b[0m\u001b[0m\n\u001b[1;32m      4\u001b[0m         \u001b[0mrow\u001b[0m \u001b[0;34m=\u001b[0m \u001b[0mjson\u001b[0m\u001b[0;34m.\u001b[0m\u001b[0mloads\u001b[0m\u001b[0;34m(\u001b[0m\u001b[0mline\u001b[0m\u001b[0;34m)\u001b[0m\u001b[0;34m\u001b[0m\u001b[0m\n\u001b[1;32m      5\u001b[0m         \u001b[0mdata\u001b[0m\u001b[0;34m.\u001b[0m\u001b[0mappend\u001b[0m\u001b[0;34m(\u001b[0m\u001b[0mrow\u001b[0m\u001b[0;34m)\u001b[0m\u001b[0;34m\u001b[0m\u001b[0m\n",
      "\u001b[0;31mFileNotFoundError\u001b[0m: [Errno 2] No such file or directory: '/home/dcuser/Desktop/htrc-metadata/meta-chunks/pd_open_access/open_segment_dc'"
     ]
    }
   ],
   "source": [
    "data = []\n",
    "with open('/home/dcuser/Desktop/htrc-metadata/meta-chunks/pd_open_access/open_segment_dc', 'r') as fin: # file path to directory--WILL NEED TO CHANGE THIS EACH RUN\n",
    "    for line in fin:\n",
    "        row = json.loads(line)\n",
    "        data.append(row)"
   ]
  },
  {
   "cell_type": "code",
   "execution_count": 604,
   "metadata": {},
   "outputs": [],
   "source": [
    "fielddata = {}\n",
    "\n",
    "for entry in data:\n",
    "    fields = entry['fields']\n",
    "    for pair in fields:\n",
    "        fieldnum = list(pair.keys())[0]\n",
    "        \n",
    "        if fieldnum not in fielddata:\n",
    "            fielddata[fieldnum] = {'count': 1, 'subfields': {}}\n",
    "        else:\n",
    "            fielddata[fieldnum]['count'] += 1\n",
    "        payload = list(pair.values())[0]\n",
    "        if isinstance(payload, dict):\n",
    "            subfields = payload['subfields']\n",
    "            for s in subfields:\n",
    "                subcode, subvalue = list(s.items())[0]\n",
    "                if subcode not in fielddata[fieldnum]['subfields']:\n",
    "                    fielddata[fieldnum]['subfields'][subcode] = 1\n",
    "                else:\n",
    "                    fielddata[fieldnum]['subfields'][subcode] += 1\n",
    "        else:\n",
    "            subfields = \"missing\"\n",
    "        "
   ]
  },
  {
   "cell_type": "code",
   "execution_count": 597,
   "metadata": {},
   "outputs": [],
   "source": [
    "## Creating the fields records for the csv\n",
    "\n",
    "allfieldsseen = list(fielddata.keys())\n",
    "allsubfieldsdseen = []\n",
    "\n",
    "for field, values in fielddata.items():\n",
    "    subs = list(values['subfields'].keys())\n",
    "    for s in subs:\n",
    "        if s not in allsubfieldsdseen:\n",
    "            allsubfieldsdseen.append(s)\n",
    "            \n",
    "allfieldsseen.sort()\n",
    "allsubfieldsdseen.sort()\n",
    "        "
   ]
  },
  {
   "cell_type": "code",
   "execution_count": 598,
   "metadata": {},
   "outputs": [],
   "source": [
    "# now let's go through the original data rows and try to smash this into the full csv possible\n",
    "\n",
    "rows = []\n",
    "\n",
    "for chunk in data:\n",
    "    row = []\n",
    "    payload = chunk['fields']\n",
    "    flat = {}\n",
    "    for item in payload:\n",
    "        field, value = list(item.items())[0] # get the tuple of the field and unpack\n",
    "        flat[field] = value\n",
    "    for f in allfieldsseen:\n",
    "        if f in flat:\n",
    "            if isinstance(flat[f], dict):\n",
    "                c = flat[f]['subfields']\n",
    "                row.append(c)\n",
    "            else:\n",
    "                row.append(flat[f])\n",
    "        else:\n",
    "            row.append('MISSING')\n",
    "    rows.append(row)"
   ]
  },
  {
   "cell_type": "code",
   "execution_count": 599,
   "metadata": {},
   "outputs": [],
   "source": [
    "with open('/home/dcuser/Desktop/htrc-metadata_processed/pd_open_access-processed/open_segment_dc-ALL.csv', 'w') as out:\n",
    "    csvout = csv.writer(out)\n",
    "    csvout.writerow(allfieldsseen)\n",
    "    csvout.writerows(rows)"
   ]
  },
  {
   "cell_type": "code",
   "execution_count": 600,
   "metadata": {},
   "outputs": [
    {
     "data": {
      "text/plain": [
       "{'fields': [{'001': '102483132'},\n",
       "  {'003': 'MiAaHDL'},\n",
       "  {'005': '20181116000000.0'},\n",
       "  {'006': 'm        d        '},\n",
       "  {'007': 'cr bn ---auaua'},\n",
       "  {'008': '030310s1918    enk           000 0 eng d'},\n",
       "  {'035': {'ind1': ' ', 'ind2': ' ', 'subfields': [{'a': 'sdr-nnc4983238'}]}},\n",
       "  {'035': {'ind1': ' ', 'ind2': ' ', 'subfields': [{'a': '(NNC)4983238'}]}},\n",
       "  {'035': {'ind1': ' ', 'ind2': ' ', 'subfields': [{'a': '(OCoLC)51820453'}]}},\n",
       "  {'040': {'ind1': ' ',\n",
       "    'ind2': ' ',\n",
       "    'subfields': [{'a': 'VYN'}, {'c': 'VYN'}]}},\n",
       "  {'099': {'ind1': ' ', 'ind2': ' ', 'subfields': [{'a': '0036'}]}},\n",
       "  {'100': {'ind1': '1',\n",
       "    'ind2': ' ',\n",
       "    'subfields': [{'a': 'Horler, Edmund C.'}]}},\n",
       "  {'245': {'ind1': '1',\n",
       "    'ind2': '0',\n",
       "    'subfields': [{'a': 'African Mass Movements /'},\n",
       "     {'c': 'by Edmund C. Horler.'}]}},\n",
       "  {'260': {'ind1': ' ',\n",
       "    'ind2': ' ',\n",
       "    'subfields': [{'a': 'London :'},\n",
       "     {'b': 'Wesleyan Methodist Missionary Society,'},\n",
       "     {'c': '1918.'}]}},\n",
       "  {'300': {'ind1': ' ',\n",
       "    'ind2': ' ',\n",
       "    'subfields': [{'a': '15 p. :'}, {'c': '18 cm.'}]}},\n",
       "  {'538': {'ind1': ' ',\n",
       "    'ind2': ' ',\n",
       "    'subfields': [{'a': 'Mode of access: Internet.'}]}},\n",
       "  {'650': {'ind1': ' ',\n",
       "    'ind2': '0',\n",
       "    'subfields': [{'a': 'Missions'}, {'z': 'Africa.'}]}},\n",
       "  {'970': {'ind1': ' ', 'ind2': ' ', 'subfields': [{'a': 'BK'}]}},\n",
       "  {'974': {'ind1': ' ',\n",
       "    'ind2': ' ',\n",
       "    'subfields': [{'8': 'ia.africanmassmovem00horl'},\n",
       "     {'b': 'NNC'},\n",
       "     {'c': 'INNC'},\n",
       "     {'d': '20181119'},\n",
       "     {'s': 'ia'},\n",
       "     {'u': 'nnc2.ark:/13960/t7fr6mr0x'},\n",
       "     {'z': '1918'},\n",
       "     {'y': '1918'},\n",
       "     {'r': 'pdus'},\n",
       "     {'q': 'bib'},\n",
       "     {'a': 'open'}]}}],\n",
       " 'leader': '00585cam a2200205Ka 4500'}"
      ]
     },
     "execution_count": 600,
     "metadata": {},
     "output_type": "execute_result"
    }
   ],
   "source": [
    "data[0]"
   ]
  },
  {
   "cell_type": "code",
   "execution_count": 601,
   "metadata": {},
   "outputs": [
    {
     "name": "stdout",
     "output_type": "stream",
     "text": [
      "Complete\n"
     ]
    }
   ],
   "source": [
    "print(\"Complete\")"
   ]
  },
  {
   "cell_type": "code",
   "execution_count": null,
   "metadata": {},
   "outputs": [],
   "source": []
  },
  {
   "cell_type": "code",
   "execution_count": null,
   "metadata": {},
   "outputs": [],
   "source": []
  },
  {
   "cell_type": "code",
   "execution_count": null,
   "metadata": {},
   "outputs": [],
   "source": []
  }
 ],
 "metadata": {
  "kernelspec": {
   "display_name": "Python 3",
   "language": "python",
   "name": "python3"
  },
  "language_info": {
   "codemirror_mode": {
    "name": "ipython",
    "version": 3
   },
   "file_extension": ".py",
   "mimetype": "text/x-python",
   "name": "python",
   "nbconvert_exporter": "python",
   "pygments_lexer": "ipython3",
   "version": "3.6.4"
  }
 },
 "nbformat": 4,
 "nbformat_minor": 2
}
