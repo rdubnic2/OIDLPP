{
 "cells": [
  {
   "cell_type": "code",
   "execution_count": 2,
   "metadata": {},
   "outputs": [],
   "source": [
    "import pandas as pd\n",
    "import csv\n",
    "import json\n",
    "import os\n"
   ]
  },
  {
   "cell_type": "code",
   "execution_count": 7,
   "metadata": {},
   "outputs": [
    {
     "name": "stdout",
     "output_type": "stream",
     "text": [
      "There are 3 files in /Users/rdubnic2/Desktop/restricted_meta/\n"
     ]
    }
   ],
   "source": [
    "filepath_list = [] # we'll generate a list of files in our chosen directory so we can loop through the json files to make CSV\n",
    "\n",
    "basepath = '/Users/rdubnic2/Desktop/restricted_meta/' # file path to directory\n",
    "\n",
    "with os.scandir(basepath) as entries: # looping to add file names to end of shared file path in order to easily call them later\n",
    "    for entry in entries:\n",
    "        if entry.is_file():\n",
    "            filepath_list.append(basepath+entry.name)\n",
    "            \n",
    "print('There are ' + str(len(filepath_list)) + ' files in ' + basepath) # tells us we were successful"
   ]
  },
  {
   "cell_type": "code",
   "execution_count": 9,
   "metadata": {},
   "outputs": [
    {
     "data": {
      "text/plain": [
       "['/Users/rdubnic2/Desktop/restricted_meta/restricted_segment_ab.jsonl',\n",
       " '/Users/rdubnic2/Desktop/restricted_meta/restricted_segment_aa.jsonl',\n",
       " '/Users/rdubnic2/Desktop/restricted_meta/restricted_segment_ac.jsonl']"
      ]
     },
     "execution_count": 9,
     "metadata": {},
     "output_type": "execute_result"
    }
   ],
   "source": [
    "filepath_list # checking to make sure it looks as intended"
   ]
  },
  {
   "cell_type": "code",
   "execution_count": 31,
   "metadata": {},
   "outputs": [
    {
     "name": "stdout",
     "output_type": "stream",
     "text": [
      "r_df0\n",
      "r_df1\n",
      "r_df2\n"
     ]
    }
   ],
   "source": [
    "num = 0 # number variable that will increase to create multiple dataframes\n",
    "frame_list = [] # a list that will hold the names of the created dataframes so we know what we made\n",
    "                # and can iterate later to create CSVs\n",
    "\n",
    "for file in filepath_list: # iterate through our filepaths to create dataframes, then CSVs\n",
    "    framename = ('r_df%s' % (num)) # generating dataframe names\n",
    "    name_str = str(framename)\n",
    "    # print(name_str)\n",
    "    num += 1\n",
    "    name_str = pd.read_json(file, lines=True) # using filepaths to create dataframes from each json file in directory\n",
    "    name_str['fields'].apply(pd.Series) # splitting out the one column with all MARC fields\n",
    "    name_str = pd.concat([name_str.drop(['fields'], axis=1), name_str['fields'].apply(pd.Series)], axis=1) # modifying dataframe to include these new split out fields as columns\n",
    "    name_str.to_csv(str(framename)+'.csv', sep=',', mode='a') # saving the dataframes we created and then modified to CSV files with the same names\n",
    "    print(str(framename)) # I like to have a visual cue that the loop is working, so this will print the name of each dataframme after the loop finishes"
   ]
  },
  {
   "cell_type": "code",
   "execution_count": null,
   "metadata": {},
   "outputs": [],
   "source": []
  },
  {
   "cell_type": "code",
   "execution_count": 21,
   "metadata": {},
   "outputs": [],
   "source": []
  },
  {
   "cell_type": "code",
   "execution_count": null,
   "metadata": {},
   "outputs": [],
   "source": []
  },
  {
   "cell_type": "code",
   "execution_count": null,
   "metadata": {},
   "outputs": [],
   "source": []
  },
  {
   "cell_type": "code",
   "execution_count": null,
   "metadata": {},
   "outputs": [],
   "source": []
  },
  {
   "cell_type": "code",
   "execution_count": null,
   "metadata": {},
   "outputs": [],
   "source": []
  },
  {
   "cell_type": "code",
   "execution_count": null,
   "metadata": {},
   "outputs": [],
   "source": []
  }
 ],
 "metadata": {
  "kernelspec": {
   "display_name": "Python 3",
   "language": "python",
   "name": "python3"
  },
  "language_info": {
   "codemirror_mode": {
    "name": "ipython",
    "version": 3
   },
   "file_extension": ".py",
   "mimetype": "text/x-python",
   "name": "python",
   "nbconvert_exporter": "python",
   "pygments_lexer": "ipython3",
   "version": "3.6.6"
  }
 },
 "nbformat": 4,
 "nbformat_minor": 2
}
